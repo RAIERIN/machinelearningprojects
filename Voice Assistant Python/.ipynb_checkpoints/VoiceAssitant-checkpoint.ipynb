{
 "cells": [
  {
   "cell_type": "markdown",
   "metadata": {},
   "source": [
    "# Packages\n",
    "gTTS, SpeechRecognition, playsound"
   ]
  },
  {
   "cell_type": "code",
   "execution_count": 1,
   "metadata": {},
   "outputs": [],
   "source": [
    "import speech_recognition as sr\n",
    "from gtts import gTTS\n",
    "import os\n",
    "import time\n",
    "import playsound"
   ]
  },
  {
   "cell_type": "markdown",
   "metadata": {},
   "source": [
    "# Playing Sound\n",
    "\n",
    "We can start writing the code to play sound from our computer speakers. We will use gTTS(google text to speech) module to do this."
   ]
  },
  {
   "cell_type": "code",
   "execution_count": 22,
   "metadata": {},
   "outputs": [],
   "source": [
    "# Create an audio file (.mp3) that has the google voice saying whatever text we pass in\n",
    "# It will save th file to the same directory as python script\n",
    "# load it using playsound and play sound\n",
    "def speak(text):\n",
    "    tts = gTTS(text=text, lang=\"en\")\n",
    "    filename = 'voice.mp3'\n",
    "    tts.save(filename)\n",
    "    playsound.playsound(filename,True)\n",
    "    os.remove('voice.mp3')"
   ]
  },
  {
   "cell_type": "code",
   "execution_count": 23,
   "metadata": {},
   "outputs": [],
   "source": [
    "# Use the function by calling it and passing text\n",
    "speak(\"hello Erin\")"
   ]
  },
  {
   "cell_type": "markdown",
   "metadata": {},
   "source": [
    "# Getting User Input\n",
    "We will get user input and turn it into text data that we can process."
   ]
  },
  {
   "cell_type": "code",
   "execution_count": 16,
   "metadata": {},
   "outputs": [],
   "source": [
    "# detect a user voice, translate the audio to text and return it to us.\n",
    "# It will even wait until the user is speaking to start translating/recording audio\n",
    "\n",
    "def get_audio():\n",
    "    r = sr.Recognizer()\n",
    "    with sr.Microphone() as source:\n",
    "        audio = r.listen(source)\n",
    "        said = \"\"\n",
    "\n",
    "        try:\n",
    "            said = r.recognize_google(audio)\n",
    "            print(said)\n",
    "        except Exception as e:\n",
    "            print(\"Exception: \" + str(e))\n",
    "\n",
    "    return said"
   ]
  },
  {
   "cell_type": "markdown",
   "metadata": {},
   "source": [
    "# Responding Appropriately\n",
    "More advanced things can be done using specific commands. Now lets test out the responding to some simple messages from our user."
   ]
  },
  {
   "cell_type": "code",
   "execution_count": 24,
   "metadata": {},
   "outputs": [
    {
     "name": "stdout",
     "output_type": "stream",
     "text": [
      "hello\n"
     ]
    }
   ],
   "source": [
    "text = get_audio()\n",
    "\n",
    "if \"hello\" in text:\n",
    "    speak(\"Hello, how are you?\")\n",
    "elif \"what is your name\" in text:\n",
    "    speak(\"My name is Erin\")"
   ]
  },
  {
   "cell_type": "markdown",
   "metadata": {},
   "source": [
    "# We will be setting up the google Calendar API for python"
   ]
  },
  {
   "cell_type": "markdown",
   "metadata": {},
   "source": [
    "# Insall module\n",
    "\n",
    "pip install --upgrade google-api-python-client google-auth-httplib2 google-auth-oauthlib"
   ]
  },
  {
   "cell_type": "code",
   "execution_count": 1,
   "metadata": {},
   "outputs": [],
   "source": [
    "from __future__ import print_function\n",
    "import datetime\n",
    "import pickle\n",
    "import os.path\n",
    "from googleapiclient.discovery import build\n",
    "from google_auth_oauthlib.flow import InstalledAppFlow\n",
    "from google.auth.transport.requests import Request\n",
    "\n",
    "# If modifying these scopes, delete the file token.pickle.\n",
    "SCOPES = ['https://www.googleapis.com/auth/calendar.readonly']\n",
    "\n",
    "def main():\n",
    "    \"\"\"Shows basic usage of the Google Calendar API.\n",
    "    Prints the start and name of the next 10 events on the user's calendar.\n",
    "    \"\"\"\n",
    "    creds = None\n",
    "    # The file token.pickle stores the user's access and refresh tokens, and is\n",
    "    # created automatically when the authorization flow completes for the first\n",
    "    # time.\n",
    "    if os.path.exists('token.pickle'):\n",
    "        with open('token.pickle', 'rb') as token:\n",
    "            creds = pickle.load(token)\n",
    "    # If there are no (valid) credentials available, let the user log in.\n",
    "    if not creds or not creds.valid:\n",
    "        if creds and creds.expired and creds.refresh_token:\n",
    "            creds.refresh(Request())\n",
    "        else:\n",
    "            flow = InstalledAppFlow.from_client_secrets_file(\n",
    "                'credentials.json', SCOPES)\n",
    "            creds = flow.run_local_server(port=0)\n",
    "        # Save the credentials for the next run\n",
    "        with open('token.pickle', 'wb') as token:\n",
    "            pickle.dump(creds, token)\n",
    "\n",
    "    service = build('calendar', 'v3', credentials=creds)\n",
    "\n",
    "    # Call the Calendar API\n",
    "    now = datetime.datetime.utcnow().isoformat() + 'Z' # 'Z' indicates UTC time\n",
    "    print('Getting the upcoming 10 events')\n",
    "    events_result = service.events().list(calendarId='primary', timeMin=now,\n",
    "                                        maxResults=10, singleEvents=True,\n",
    "                                        orderBy='startTime').execute()\n",
    "    events = events_result.get('items', [])\n",
    "\n",
    "    if not events:\n",
    "        print('No upcoming events found.')\n",
    "    for event in events:\n",
    "        start = event['start'].get('dateTime', event['start'].get('date'))\n",
    "        print(start, event['summary'])\n",
    "\n",
    "# if __name__ == '__main__':\n",
    "#     main()"
   ]
  },
  {
   "cell_type": "code",
   "execution_count": 3,
   "metadata": {},
   "outputs": [
    {
     "name": "stdout",
     "output_type": "stream",
     "text": [
      "Getting the upcoming 10 events\n",
      "No upcoming events found.\n"
     ]
    }
   ],
   "source": [
    "main()"
   ]
  },
  {
   "cell_type": "markdown",
   "metadata": {},
   "source": [
    "# Refactoring\n",
    "Now we will split up the code into two main functions: authenticate_google, get_events. Then we will move the import statements and global variables to the top of ourprogram. After these changes we will get something like this:"
   ]
  },
  {
   "cell_type": "code",
   "execution_count": 4,
   "metadata": {},
   "outputs": [
    {
     "name": "stdout",
     "output_type": "stream",
     "text": [
      "Getting the upcoming 2 events\n",
      "No upcoming events found.\n"
     ]
    }
   ],
   "source": [
    "from __future__ import print_function\n",
    "import datetime\n",
    "import pickle\n",
    "import os.path\n",
    "from googleapiclient.discovery import build\n",
    "from google_auth_oauthlib.flow import InstalledAppFlow\n",
    "from google.auth.transport.requests import Request\n",
    "import os\n",
    "import time\n",
    "import playsound\n",
    "import speech_recognition as sr\n",
    "from gtts import gTTS\n",
    "\n",
    "SCOPES = ['https://www.googleapis.com/auth/calendar.readonly']\n",
    "\n",
    "def speak(text):\n",
    "    tts = gTTS(text=text, lang=\"en\")\n",
    "    filename = \"voice.mp3\"\n",
    "    tts.save(filename)\n",
    "    playsound.playsound(filename)\n",
    "\n",
    "\n",
    "def get_audio():\n",
    "    r = sr.Recognizer()\n",
    "    with sr.Microphone() as source:\n",
    "        audio = r.listen(source)\n",
    "        said = \"\"\n",
    "\n",
    "        try:\n",
    "            said = r.recognize_google(audio)\n",
    "            print(said)\n",
    "        except Exception as e:\n",
    "            print(\"Exception: \" + str(e))\n",
    "\n",
    "    return said\n",
    "\n",
    "\n",
    "def authenticate_google():\n",
    "    \"\"\"Shows basic usage of the Google Calendar API.\n",
    "    Prints the start and name of the next 10 events on the user's calendar.\n",
    "    \"\"\"\n",
    "    creds = None\n",
    "    if os.path.exists('token.pickle'):\n",
    "        with open('token.pickle', 'rb') as token:\n",
    "            creds = pickle.load(token)\n",
    "\n",
    "    if not creds or not creds.valid:\n",
    "        if creds and creds.expired and creds.refresh_token:\n",
    "            creds.refresh(Request())\n",
    "        else:\n",
    "            flow = InstalledAppFlow.from_client_secrets_file(\n",
    "                'credentials.json', SCOPES)\n",
    "            creds = flow.run_local_server(port=0)\n",
    "\n",
    "        with open('token.pickle', 'wb') as token:\n",
    "            pickle.dump(creds, token)\n",
    "\n",
    "    service = build('calendar', 'v3', credentials=creds)\n",
    "\n",
    "    return service\n",
    "\n",
    "\n",
    "def get_events(n, service):\n",
    "    # Call the Calendar API\n",
    "    now = datetime.datetime.utcnow().isoformat() + 'Z' # 'Z' indicates UTC time\n",
    "    print(f'Getting the upcoming {n} events')\n",
    "    events_result = service.events().list(calendarId='primary', timeMin=now,\n",
    "                                        maxResults=n, singleEvents=True,\n",
    "                                        orderBy='startTime').execute()\n",
    "    events = events_result.get('items', [])\n",
    "\n",
    "    if not events:\n",
    "        print('No upcoming events found.')\n",
    "    for event in events:\n",
    "        start = event['start'].get('dateTime', event['start'].get('date'))\n",
    "        print(start, event['summary'])\n",
    "\n",
    "\n",
    "service = authenticate_google()\n",
    "get_events(2, service)"
   ]
  },
  {
   "cell_type": "markdown",
   "metadata": {},
   "source": [
    "The authenticate_google function will be responsible for performing the authentication at the beginning of our script.\n",
    "While the get_events function will get the n amount of events that appear next in our calendar."
   ]
  },
  {
   "cell_type": "markdown",
   "metadata": {},
   "source": [
    "# Defining Months and Days\n",
    "Since the user will be asking things like: \"What do I have on September 3rd\", \"Do I have any plans of Friday?\" we need to define which words are days and months, we also need to define possible suffixes on numbers (like 2nd, or 4th). We will start by defining some lists with this information."
   ]
  },
  {
   "cell_type": "code",
   "execution_count": 5,
   "metadata": {},
   "outputs": [],
   "source": [
    "MONTHS = [\"january\", \"february\", \"march\", \"april\", \"may\", \"june\",\"july\", \"august\", \"september\",\"october\", \"november\", \"december\"]\n",
    "DAYS = [\"monday\", \"tuesday\", \"wednesday\", \"thursday\", \"friday\", \"saturday\", \"sunday\"]\n",
    "DAY_EXTENTIONS = [\"rd\", \"th\", \"st\", \"nd\"]"
   ]
  },
  {
   "cell_type": "markdown",
   "metadata": {},
   "source": [
    "# Getting The Date From Text\n",
    "\n",
    "Now we will create a function that can read a string of text and extract the date from it. This is fairly complex due to the amount of ways someone can describe a date. Below are some examples of things people may say:\n",
    "\n",
    "\"What do I have on January Third\"\n",
    "\n",
    "\"What's my schedule like on Friday\"\n",
    "\n",
    "\"Do I have anything next Monday\"\n",
    "\n",
    "\"What does my day look like on the 5th\"\n",
    "\n",
    "So you can see how many different ways someone could describe the date.\n",
    "\n",
    "Here's the start of the function:"
   ]
  },
  {
   "cell_type": "code",
   "execution_count": 6,
   "metadata": {},
   "outputs": [],
   "source": [
    "#This will parse the text passed in and look for a month and/or a day.\n",
    "#When we finish this function in the next tutorial we will include the code to handle days of the week (Wednesday, Friday etc.)\n",
    "def get_date(text):\n",
    "    text = text.lower()\n",
    "    today = datetime.date.today()\n",
    "\n",
    "    if text.count(\"today\") > 0:\n",
    "        return today\n",
    "\n",
    "    day = -1\n",
    "    day_of_week = -1\n",
    "    month = -1\n",
    "    year = today.year\n",
    "\n",
    "    for word in text.split():\n",
    "        if word in MONTHS:\n",
    "            month = MONTHS.index(word) + 1\n",
    "        elif word in DAYS:\n",
    "            day_of_week = DAYS.index(word)\n",
    "        elif word.isdigit():\n",
    "            day = int(word)\n",
    "        else:\n",
    "            for ext in DAY_EXTENTIONS:\n",
    "                found = word.find(ext)\n",
    "                if found > 0:\n",
    "                    try:\n",
    "                        day = int(word[:found])\n",
    "                    except:\n",
    "                        pass"
   ]
  },
  {
   "cell_type": "code",
   "execution_count": null,
   "metadata": {},
   "outputs": [],
   "source": []
  }
 ],
 "metadata": {
  "kernelspec": {
   "display_name": "Python [conda env:py3-TF2.0] *",
   "language": "python",
   "name": "conda-env-py3-TF2.0-py"
  },
  "language_info": {
   "codemirror_mode": {
    "name": "ipython",
    "version": 3
   },
   "file_extension": ".py",
   "mimetype": "text/x-python",
   "name": "python",
   "nbconvert_exporter": "python",
   "pygments_lexer": "ipython3",
   "version": "3.7.0"
  }
 },
 "nbformat": 4,
 "nbformat_minor": 4
}
