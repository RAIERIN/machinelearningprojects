{
 "cells": [
  {
   "cell_type": "markdown",
   "metadata": {},
   "source": [
    "# What is Chatbot?\n",
    "* A chatbot is an intelligent piece of software that is capable of communicating and performing actions similar to a human.\n",
    "* Chatbots are used a lot in customer interaction, marketing on social network sites and instantly messaging the client\n",
    "* Ther are two basic types of chatbot models based on how they are built; Retrieval based and Generative based models."
   ]
  },
  {
   "cell_type": "markdown",
   "metadata": {},
   "source": [
    "# 1. Retrieval based Chatbots\n",
    "* A retrieval-based chatbot uses predefined input patterns and responses.\n",
    "* It then uses some type of heuristic approach to select the appropriate responses.\n",
    "* It is widely used in the industry to make goal-oriented chatbots where we can customize the tone and flow ot the chatbot to drive our customers with the best experience."
   ]
  },
  {
   "cell_type": "markdown",
   "metadata": {},
   "source": [
    "# 2. Generative based Chatbots\n",
    "* Generative models are not based on some predefined responses.\n",
    "* They are based on seq 2 seq neural networks. \n",
    "* It is the same idea as machine translation\n",
    "* In machine translation, we translate the source code from one language to another language \n",
    "* But, here we are going to transform input into an output. It needs a large amount of data and it is based on Deep neural networks"
   ]
  },
  {
   "cell_type": "markdown",
   "metadata": {},
   "source": [
    "# Project Detail\n",
    "* We are going to build chatbot using deep learning techniques\n",
    "* The chatbot will be trained on the dataset which contains categories(intents), pattern and responses\n",
    "* We use a special recurrent neural networl (LSTM) to classify which category the user's message belongs to and then we will give a random response from the list of responses."
   ]
  },
  {
   "cell_type": "markdown",
   "metadata": {},
   "source": [
    "# The Dataset\n",
    "The dataset we will be using is 'intents.json'. This is a JSON file that contains the patterns we need to find and the responses we want to return to the user"
   ]
  },
  {
   "cell_type": "code",
   "execution_count": null,
   "metadata": {},
   "outputs": [],
   "source": []
  }
 ],
 "metadata": {
  "kernelspec": {
   "display_name": "Python [conda env:py3-TF2.0] *",
   "language": "python",
   "name": "conda-env-py3-TF2.0-py"
  },
  "language_info": {
   "codemirror_mode": {
    "name": "ipython",
    "version": 3
   },
   "file_extension": ".py",
   "mimetype": "text/x-python",
   "name": "python",
   "nbconvert_exporter": "python",
   "pygments_lexer": "ipython3",
   "version": "3.7.0"
  }
 },
 "nbformat": 4,
 "nbformat_minor": 4
}
