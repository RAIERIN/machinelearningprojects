{
 "cells": [
  {
   "cell_type": "markdown",
   "metadata": {},
   "source": [
    "# Introduction\n",
    "\n",
    "Here we will be making a drowsiness detecting device. A countless number of people drive on the highway day and night. Taxi drivers, bus drivers, truck drivers and people traveling long-distance suffer from lack of sleep. Due to which it becomes very dangerous to drive when feeling sleepy. The majority of accidents happen due to the drowsiness of the driver. So, to prevent these accidents we will build a system which will alert the driver when he feels sleepy.\n",
    "\n",
    "Drowsiness detection is a safety technology that can prevent accidents that are caused by drivers who fell asleep while driving. The objective of this project will detect that a person's eyes are closed for a few seconds. This system will alert the driver when drowsiness is detected."
   ]
  },
  {
   "cell_type": "markdown",
   "metadata": {},
   "source": [
    "# About the project\n",
    "\n",
    "We will be using OpenCV for gathering the images from webcam and feed them into a Deep Learning model which will classify whether the person's eyes are 'Open' or 'Closed'. The approach we will be using for this project are as follows:\n",
    "\n",
    "Step 1 - Take image as input from a camera.\n",
    "\n",
    "Step 2 - Detect the face in the image and create a Region of Interest(ROI).\n",
    "\n",
    "Step 3 - Detec the eyes from ROI and feed it to the classifier.\n",
    "\n",
    "Step 4 - Classifier will categorize whether eyes are open or closed.\n",
    "\n",
    "Step 5 - Calculate score to check whether the person is drwosy."
   ]
  },
  {
   "cell_type": "markdown",
   "metadata": {},
   "source": [
    "# The Dataset\n",
    "\n",
    "The dataset used for this model is created by DataFlair. To create the dataset, a script that captures eyes from a camera and stores in local disk. Then it is sperated into their respective labels'Open' or 'Closed'. The data was manually cleaned by removing the unwanted images which were not necessary for building the model. The data comprises around 7000 images of people's eyes under different lighting conditions. After training the model on the dataset, attached the final weights and model architecture file \"models/cnnCat2.h5\"."
   ]
  },
  {
   "cell_type": "markdown",
   "metadata": {},
   "source": [
    "# The Model Architecture\n",
    "\n",
    "The model used is built with Keras using Convolutional Neural Networks (CNN). A convolutional neural network is a special type of deep neural network which performs extremely well for image classification purposes. A CNN basically consists of an input layer, an output layer and a hidden layer which can have multiple numbers of layers. A convolution operation is performed on these layers using a filter that performs 2D matrix multiplication on the layer and filter.\n",
    "\n",
    "The CNN model architecture consists of the following layers:\n",
    "\n",
    "    1. Convolutional layer; 32 nodes, kernel size 3\n",
    "    2. Convolutional layer; 32 nodes, kernel size 3\n",
    "    3. Convolutional layer; 64 nodes, kernel size 3\n",
    "    4. Fully connected layer; 128 nodes\n",
    "    \n",
    "The final layer is alos fully connected with 2 nodes. In all the layers, a Relu activation function is used except the output layer in which we used Softmax."
   ]
  },
  {
   "cell_type": "markdown",
   "metadata": {},
   "source": [
    "# Prerequisites\n",
    "\n",
    "The requirement for this Python project is a webcam through which we will capture images. You need to have Python (3.6 version recommended). Necessary packages:\n",
    "\n",
    "    1. OpenCV\n",
    "    2. TensorFlow\n",
    "    3. Keras\n",
    "    4. Pygame"
   ]
  },
  {
   "cell_type": "markdown",
   "metadata": {},
   "source": [
    "# Folder Structure\n",
    "\n",
    "    1. The \"haar cascade files\" folder consists of the xml files that are needed to detect objects from the image. In our case,        we are detecting the face and eyes of the person.\n",
    "    2. The models folder contains our model file 'cnnCat2.h5\" which was trained on convolutional neural networks.\n",
    "    3. We have an audio clip \"alarm.wav\" which is played when the person is feeling drowsy.\n",
    "    4. \"Model.py\" file contains the program through which we built our classification model by training our dataset. You caould         see the implementation of convolutional neural network in the file.\n",
    "    5. \"Drwosiness detection.py\" is the main file of our project to start detecting procedure, we have to run this file."
   ]
  },
  {
   "cell_type": "markdown",
   "metadata": {},
   "source": [
    "# Steps Involved\n",
    "\n",
    "## Step 1 - Take Image as Input from a Camera\n",
    "\n",
    "With a webcam, we will take images as input. So to access the webcam, we made a infinite loop that will capture each frame. We use the method provided by OpenCV, cv2.VideoCapture(o) to access the camera and set the capture object(cap). cap.read() will read each frame and we store the image in a frame variable.\n",
    "\n",
    "## Step 2 - Detect Face in the Image and Create a Region of Interest (ROI)\n",
    "\n",
    "To detect the face in the image, we need to first convert the image into grayscale as the OpenCV algorithm for object detection takes gray images in the input. We don't need color information to detect the objects. We will be using haar cascade classifier to detect faces. This line is used to set our classifier face = cv2.CascadeClassifier('path to our haar cascade xml file'). Then we perform the detection using faces = face.detectMultiScale(gray). It returns an array of detections with x,y coordinates, and height, the width of the boundary box of the object. Now we can iterate over the faces and draw boundary boxes for each face.\n",
    "\n",
    "for (x,y,w,h) in faces: \n",
    "        cv2.rectangle(frame, (x,y), (x+w, y+h), (100,100,100), 1 )\n",
    "\n",
    "## Step 3 - Detect the eyes from ROI and feed it to the classifier\n",
    "\n",
    "The same procedure to detect faces is used to detect eyes. First, we set the cascade classifier for eyes in lyeye and reye respectively then detect the eyes using left_eye = leye.detectMutiScale(gray). Now we need to extract only the eyes data from the full image. This can be achieved by extracting the boundary box of the eye and then we can pull out the eye image from the frame with this code.\n",
    "\n",
    "l_eye = frame[ y : y+h, x : x+w ]\n",
    "\n",
    "l_eye only contains the image data of the eye. This will be fed into our CNN classifier which will predict if eyes are open or closed. Similarly, we will be extracting the right eye into r_eye.\n",
    "\n",
    "## Step 4 - Classifier will Categorize whether Eyes are Open or Closed\n",
    "\n",
    "We are using CNN classifier for predicting whether eye status. To feed our image into the model, we need to perform certain operations because the model needs the correct dimensions to start with. First, we convert the color image into grayscale using r_eye = cv2.cvtColor(r_eye,cv2.COLOR_BGR2GRAY). Then, we resize the image to 24*24 pixels as our model was trained on 24 * 24 pixel images cv2.resize(r_eye(24,24)). We normalize our data for better convergence r_eye = r_eye/255 (All values will be between 0-1). Expand the dimesions to feed into our clasifier. We loaded our model using model = load_model('models/cnnCat2.h5'). Now we predict each eye with our model\n",
    "lpred = model.predict_classes(l_eye). If the value of lpred[0] 0 then, it stastes that eyes are closed.\n",
    "\n",
    "\n",
    "## Step 5 - Calculate Score to Check whether Person is Drowsy\n",
    "\n",
    "The score is basically a value we will use to determine how long the person has closed his eyes. So if both eyes are closed, we will keep on increasing score and when eyes are open, we decrease the score. We display real time status of the person.\n",
    "\n",
    "cv2.putText(frame, “Open”, (10, height-20), font, 1, (255,255,255), 1, cv2.LINE_AA )\n",
    "\n",
    "A threshold is defined for example if score becomes greater than 15 that means the person's eyes are closed for a long period of time. This is when we beep the alarm using sound.play()"
   ]
  },
  {
   "cell_type": "code",
   "execution_count": null,
   "metadata": {},
   "outputs": [],
   "source": []
  }
 ],
 "metadata": {
  "kernelspec": {
   "display_name": "Python [conda env:py3-TF2.0] *",
   "language": "python",
   "name": "conda-env-py3-TF2.0-py"
  },
  "language_info": {
   "codemirror_mode": {
    "name": "ipython",
    "version": 3
   },
   "file_extension": ".py",
   "mimetype": "text/x-python",
   "name": "python",
   "nbconvert_exporter": "python",
   "pygments_lexer": "ipython3",
   "version": "3.7.0"
  }
 },
 "nbformat": 4,
 "nbformat_minor": 4
}
